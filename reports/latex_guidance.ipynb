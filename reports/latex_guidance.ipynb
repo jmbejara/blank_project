{
 "cells": [
  {
   "cell_type": "markdown",
   "metadata": {},
   "source": [
    "# Guidance:\n",
    "\n",
    " You must generate a single LaTeX document that \n",
    " * briefly describes the nature of the replication project and contains all the tables and charts that your code produces. \n",
    " * You should give a high level overview of how the replication project went. Where did you find success, where were the challenges? \n",
    " * Also, explain the data sources that you used? The LaTeX document should not contain code snippets, but only give the tables and charts and a high level discussion of the project."
   ]
  }
 ],
 "metadata": {
  "language_info": {
   "name": "python"
  }
 },
 "nbformat": 4,
 "nbformat_minor": 2
}
